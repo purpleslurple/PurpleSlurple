{
 "cells": [
  {
   "cell_type": "markdown",
   "metadata": {},
   "source": [
    "## Purple Numbers"
   ]
  },
  {
   "cell_type": "markdown",
   "metadata": {},
   "source": [
    "Purple numbers are a way of providing granular addressability to headings and list items in HTML documents. They allow you to link directly to a specific section of a web page, rather than just linking to the top of the page. \n",
    "\n",
    "By adding purple numbers to headings and list items, you can create links that point to specific sections of a web page. This can be useful for sharing links to specific sections of a long article or document, or for creating a table of contents that allows users to quickly navigate to different sections of a web page. \n",
    "\n",
    "The PurpleSlurple tool, which is the subject of the excerpt you provided, is a tool that automatically adds purple numbers to headings and list items on a web page. This makes it easy to create links to specific sections of the page using the purple numbers."
   ]
  },
  {
   "cell_type": "markdown",
   "metadata": {},
   "source": [
    "This is a JavaScript bookmarklet that adds purple numbers to the headings and list items on a web page. Here's a decoded version of the code:\n",
    "\n"
   ]
  },
  {
   "cell_type": "code",
   "execution_count": null,
   "metadata": {
    "vscode": {
     "languageId": "javascript"
    }
   },
   "outputs": [],
   "source": [
    "(function() {\n",
    "  var theurl = encodeURIComponent(window.location.href);\n",
    "  var fcontents = document.querySelectorAll('p, h1, h2, h3, h4, h5, h6, li');\n",
    "  fcontents.forEach(function(element, index) {\n",
    "    var fragmentId = \"purp\" + index;\n",
    "    var link = document.createElement('a');\n",
    "    link.href = '#' + fragmentId;\n",
    "    link.id = fragmentId;\n",
    "    link.innerHTML = index;\n",
    "    var parenthesizedContent = document.createElement('span');\n",
    "    parenthesizedContent.appendChild(document.createTextNode('('));\n",
    "    parenthesizedContent.appendChild(link);\n",
    "    parenthesizedContent.appendChild(document.createTextNode(') '));\n",
    "    element.insertBefore(parenthesizedContent, element.firstChild);\n",
    "  });\n",
    "})();"
   ]
  },
  {
   "cell_type": "markdown",
   "metadata": {},
   "source": [
    "\n",
    "\n",
    "When you run this bookmarklet on a web page, it first encodes the URL of the page using `encodeURIComponent()`. It then selects all the `<p>`, `<h1>` to `<h6>`, and `<li>` elements on the page using `document.querySelectorAll()`. For each of these elements, it creates a new `<a>` element with a unique ID and a link to the corresponding fragment ID. It then creates a new `<span>` element that contains the parenthesized index number and the link, and inserts it at the beginning of the element's content. Finally, it adds the purple numbers to the headings and list items on the page."
   ]
  }
 ],
 "metadata": {
  "language_info": {
   "name": "python"
  },
  "orig_nbformat": 4
 },
 "nbformat": 4,
 "nbformat_minor": 2
}
