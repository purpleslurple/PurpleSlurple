{
 "cells": [
  {
   "cell_type": "markdown",
   "metadata": {},
   "source": [
    "## Commit early, commit often"
   ]
  },
  {
   "cell_type": "markdown",
   "metadata": {},
   "source": [
    "Absolutely, \"commit early, commit often\" is a popular mantra in the world of version control and for good reason. This practice has several benefits:\n",
    "\n",
    "1. **Easier troubleshooting**: If a bug is introduced into the code, having frequent commits makes it easier to pinpoint when the bug was introduced.\n",
    "\n",
    "2. **Less merge conflicts**: When working in a team, frequent commits can help reduce the complexity of merge conflicts. Since you're regularly updating your local repository with changes from the remote, there's less chance of you and a teammate modifying the same part of the code at the same time.\n",
    "\n",
    "3. **Safe experiments**: If you want to experiment with a new feature or approach, having everything committed gives you the freedom to try out things. If the experiment doesn't work out, you can easily revert back to your last commit.\n",
    "\n",
    "4. **Progress tracking**: Regular commits provide a good way of tracking progress on the project. Each commit represents a unit of work completed.\n",
    "\n",
    "Remember, each commit should be a self-contained change to the codebase and should include a descriptive commit message. This makes it easier to understand the purpose of each commit and to navigate through the history of the project."
   ]
  },
  {
   "cell_type": "markdown",
   "metadata": {},
   "source": [
    "Yes, making incremental commits is a good practice in version control systems like Git. It allows you to save your work in small, manageable chunks, each with a clear and descriptive commit message. This makes it easier to understand the history of your project and to pinpoint when and where changes were made.\n",
    "\n",
    "After making incremental commits, you have several options:\n",
    "\n",
    "1. **Push your commits**: You can push your commits to the remote repository to share your changes with others and to back up your work.\n",
    "\n",
    "2. **Create a new branch**: If you're about to start work on a new feature or bug fix, you might want to create a new branch. This allows you to isolate your changes and makes it easier to switch between different tasks.\n",
    "\n",
    "3. **Merge your changes**: If you've finished work on a feature or bug fix, you might want to merge your changes into the main branch of your project.\n",
    "\n",
    "4. **Revert or reset your changes**: If you realize that you made a mistake, you can use Git's revert or reset commands to undo your commits.\n",
    "\n",
    "5. **Pull the latest changes**: If others have made changes to the project, you can pull the latest changes to keep your local repository up to date.\n",
    "\n",
    "Remember, the key to using Git effectively is to make regular, small commits that each represent a single logical change to your code. This makes it easier to track your progress and to undo changes if necessary."
   ]
  },
  {
   "cell_type": "markdown",
   "metadata": {},
   "source": [
    "### Update local copy of branch with latest changes from the master branch"
   ]
  },
  {
   "cell_type": "markdown",
   "metadata": {},
   "source": [
    "To update your local copy of the `107-quip-only-handles-text` branch with the latest changes from the `master` branch, you can use the following commands:\n",
    "\n"
   ]
  },
  {
   "cell_type": "markdown",
   "metadata": {},
   "source": [
    "git checkout master\n",
    "git pull\n",
    "git checkout 107-quip-only-handles-text\n",
    "git merge master"
   ]
  },
  {
   "cell_type": "markdown",
   "metadata": {},
   "source": [
    "\n",
    "\n",
    "This will switch to the `master` branch, pull any changes from the remote repository, switch back to the `107-quip-only-handles-text` branch, and merge the changes from the `master` branch into the `107-quip-only-handles-text` branch.\n",
    "\n",
    "If there are any conflicts between the local and remote changes, the `git merge` command will attempt to automatically merge them. If it is unable to do so, it will prompt the user to resolve the conflicts manually.\n",
    "\n",
    "Once the merge is complete, your local copy of the `107-quip-only-handles-text` branch will be up to date with the latest changes from the `master` branch."
   ]
  }
 ],
 "metadata": {
  "kernelspec": {
   "display_name": "Python 3",
   "language": "python",
   "name": "python3"
  },
  "language_info": {
   "name": "python",
   "version": "3.9.2"
  },
  "orig_nbformat": 4
 },
 "nbformat": 4,
 "nbformat_minor": 2
}
